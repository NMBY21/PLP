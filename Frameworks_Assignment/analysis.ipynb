{
 "cells": [
  {
   "cell_type": "code",
   "execution_count": null,
   "metadata": {
    "vscode": {
     "languageId": "plaintext"
    }
   },
   "outputs": [],
   "source": [
    "# analysis.ipynb (or analysis.py)\n",
    "import pandas as pd\n",
    "import matplotlib.pyplot as plt\n",
    "import seaborn as sns\n",
    "\n",
    "# Load dataset\n",
    "df = pd.read_csv(\"metadata.csv\")\n",
    "\n",
    "print(\"Shape:\", df.shape)\n",
    "print(df.info())\n",
    "print(df.head())\n",
    "\n",
    "# Missing values\n",
    "print(\"Missing values:\\n\", df.isnull().sum().head(20))\n",
    "# Convert publish_time to datetime\n",
    "df[\"publish_time\"] = pd.to_datetime(df[\"publish_time\"], errors=\"coerce\")\n",
    "\n",
    "# Extract year\n",
    "df[\"year\"] = df[\"publish_time\"].dt.year\n",
    "\n",
    "# Drop rows with missing title or abstract\n",
    "df = df.dropna(subset=[\"title\", \"abstract\"])\n",
    "\n",
    "# Create word count column\n",
    "df[\"abstract_word_count\"] = df[\"abstract\"].apply(lambda x: len(str(x).split()))\n",
    "# 1. Publications by year\n",
    "year_counts = df[\"year\"].value_counts().sort_index()\n",
    "plt.figure(figsize=(8,5))\n",
    "sns.barplot(x=year_counts.index, y=year_counts.values, palette=\"viridis\")\n",
    "plt.title(\"Publications by Year\")\n",
    "plt.xticks(rotation=45)\n",
    "plt.show()\n",
    "\n",
    "# 2. Top journals\n",
    "top_journals = df[\"journal\"].value_counts().head(10)\n",
    "plt.figure(figsize=(8,5))\n",
    "sns.barplot(y=top_journals.index, x=top_journals.values, palette=\"magma\")\n",
    "plt.title(\"Top Journals Publishing COVID-19 Papers\")\n",
    "plt.show()\n",
    "\n",
    "# 3. Word frequency in titles\n",
    "from collections import Counter\n",
    "import re\n",
    "\n",
    "all_words = \" \".join(df[\"title\"].dropna().str.lower()).split()\n",
    "common_words = Counter([w for w in all_words if len(w) > 3]).most_common(15)\n",
    "\n",
    "words, counts = zip(*common_words)\n",
    "plt.figure(figsize=(8,5))\n",
    "sns.barplot(x=list(counts), y=list(words))\n",
    "plt.title(\"Most Frequent Words in Paper Titles\")\n",
    "plt.show()\n",
    "\n",
    "# 4. Distribution by source_x\n",
    "source_counts = df[\"source_x\"].value_counts().head(10)\n",
    "plt.figure(figsize=(8,5))\n",
    "sns.barplot(y=source_counts.index, x=source_counts.values)\n",
    "plt.title(\"Paper Counts by Source\")\n",
    "plt.show()\n"
   ]
  }
 ],
 "metadata": {
  "language_info": {
   "name": "python"
  }
 },
 "nbformat": 4,
 "nbformat_minor": 2
}
